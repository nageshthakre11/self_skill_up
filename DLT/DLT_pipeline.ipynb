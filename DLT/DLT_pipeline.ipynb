{
 "cells": [
  {
   "cell_type": "markdown",
   "id": "6b23f181",
   "metadata": {},
   "source": [
    "### **DLT Pipeline**"
   ]
  },
  {
   "cell_type": "markdown",
   "id": "392ee68c",
   "metadata": {},
   "source": [
    "#### Download CSV file\n",
    "The following code downloads a CSV file and stores it in the specified volume."
   ]
  },
  {
   "cell_type": "code",
   "execution_count": null,
   "id": "de2b5917",
   "metadata": {},
   "outputs": [],
   "source": [
    "import urllib\n",
    "\n",
    "my_catalog = \"<catalog-name>\"\n",
    "my_schema = \"<schema-name>\"\n",
    "my_volume = \"<volume-name>\"\n",
    "\n",
    "spark.sql(f\"CREATE SCHEMA IF NOT EXISTS {my_catalog}.{my_schema}\")\n",
    "spark.sql(f\"CREATE VOLUME IF NOT EXISTS {my_catalog}.{my_schema}.{my_volume}\")\n",
    "\n",
    "volume_path = f\"/Volumes/{my_catalog}/{my_schema}/{my_volume}/\"\n",
    "download_url = \"https://health.data.ny.gov/api/views/jxy9-yhdk/rows.csv\"\n",
    "filename = \"babynames.csv\"\n",
    "\n",
    "urllib.request.urlretrieve(download_url, volume_path + filename)"
   ]
  },
  {
   "cell_type": "markdown",
   "id": "88ece2b1",
   "metadata": {},
   "source": [
    "#### Create Pipeline\n",
    "\n",
    "To configure a new pipeline, do the following:\n",
    "\n",
    "1. In the sidebar, click **Pipelines**.\n",
    "2. Click **Create pipeline**.\n",
    "3. In Pipeline name, type a **unique pipeline name**.\n",
    "4. Select the **Serverless** checkbox.\n",
    "5. In **Destination**, to configure a Unity Catalog location where tables are published, select a **Catalog and a Schema**.\n",
    "6. In **Advanced**, click Add configuration and then **define pipeline parameters** for the catalog, schema, and volume to which you downloaded data using the following parameter names:\n",
    "    \n",
    "    - my_catalog\n",
    "\n",
    "    - my_schema\n",
    "    \n",
    "    - my_volume\n",
    "7. Click **Create**."
   ]
  },
  {
   "cell_type": "markdown",
   "id": "aad111e0",
   "metadata": {},
   "source": [
    "#### **DLT Code (Python)** \n",
    "##### Imports necessary modules"
   ]
  },
  {
   "cell_type": "code",
   "execution_count": null,
   "id": "9b111129",
   "metadata": {},
   "outputs": [],
   "source": [
    "# Import modules\n",
    "\n",
    "import dlt\n",
    "from pyspark.sql.functions import *"
   ]
  },
  {
   "cell_type": "markdown",
   "id": "0df9983e",
   "metadata": {},
   "source": [
    "##### References parameters defined during pipeline configuration"
   ]
  },
  {
   "cell_type": "code",
   "execution_count": null,
   "id": "3618b1be",
   "metadata": {},
   "outputs": [],
   "source": [
    "# Assign pipeline parameters to variables\n",
    "\n",
    "my_catalog = spark.conf.get(\"my_catalog\")\n",
    "my_schema = spark.conf.get(\"my_schema\")\n",
    "my_volume = spark.conf.get(\"my_volume\")\n",
    "\n",
    "# Define the path to source data\n",
    "\n",
    "volume_path = f\"/Volumes/{my_catalog}/{my_schema}/{my_volume}/\"\n"
   ]
  },
  {
   "cell_type": "markdown",
   "id": "86d16e01",
   "metadata": {},
   "source": [
    "##### Defines a streaming table named `baby_names_raw` that ingests from a volume."
   ]
  },
  {
   "cell_type": "code",
   "execution_count": null,
   "id": "a88dece6",
   "metadata": {},
   "outputs": [],
   "source": [
    "# Define a streaming table to ingest data from a volume\n",
    "\n",
    "@dlt.table(\n",
    "  comment=\"Popular baby first names in New York. This data was ingested from the New York State Department of Health.\"\n",
    ")\n",
    "def baby_names_raw():\n",
    "  df = (spark.readStream\n",
    "    .format(\"cloudFiles\")\n",
    "    .option(\"cloudFiles.format\", \"csv\")\n",
    "    .option(\"inferSchema\", True)\n",
    "    .option(\"header\", True)\n",
    "    .load(volume_path)\n",
    "  )\n",
    "  df_renamed_column = df.withColumnRenamed(\"First Name\", \"First_Name\")\n",
    "  return df_renamed_column"
   ]
  },
  {
   "cell_type": "markdown",
   "id": "e4d2ad45",
   "metadata": {},
   "source": [
    "##### Defines a materialized view named `baby_names_prepared` that validates ingested data."
   ]
  },
  {
   "cell_type": "code",
   "execution_count": null,
   "id": "2f9d5930",
   "metadata": {},
   "outputs": [],
   "source": [
    "# Define a materialized view that validates data and renames a column\n",
    "\n",
    "@dlt.table(\n",
    "  comment=\"New York popular baby first name data cleaned and prepared for analysis.\"\n",
    ")\n",
    "@dlt.expect(\"valid_first_name\", \"First_Name IS NOT NULL\")\n",
    "@dlt.expect_or_fail(\"valid_count\", \"Count > 0\")\n",
    "def baby_names_prepared():\n",
    "  return (\n",
    "    spark.read.table(\"baby_names_raw\")\n",
    "      .withColumnRenamed(\"Year\", \"Year_Of_Birth\")\n",
    "      .select(\"Year_Of_Birth\", \"First_Name\", \"Count\")\n",
    "  )"
   ]
  },
  {
   "cell_type": "markdown",
   "id": "eb6e6b36",
   "metadata": {},
   "source": [
    "##### Defines a materialized view named `top_baby_names_2021` that has a highly refined view of the data."
   ]
  },
  {
   "cell_type": "code",
   "execution_count": null,
   "id": "60abe6a4",
   "metadata": {},
   "outputs": [],
   "source": [
    "# Define a materialized view that has a filtered, aggregated, and sorted view of the data\n",
    "\n",
    "@dlt.table(\n",
    "  comment=\"A table summarizing counts of the top baby names for New York for 2021.\"\n",
    ")\n",
    "def top_baby_names_2021():\n",
    "  return (\n",
    "    spark.read.table(\"baby_names_prepared\")\n",
    "      .filter(expr(\"Year_Of_Birth == 2021\"))\n",
    "      .groupBy(\"First_Name\")\n",
    "      .agg(sum(\"Count\").alias(\"Total_Count\"))\n",
    "      .sort(desc(\"Total_Count\"))\n",
    "      .limit(10)\n",
    "  )"
   ]
  },
  {
   "cell_type": "markdown",
   "id": "3715a877",
   "metadata": {},
   "source": [
    "**OR**\n",
    "#### **DLT Code (SQL)** "
   ]
  },
  {
   "cell_type": "code",
   "execution_count": null,
   "id": "cf82775e",
   "metadata": {
    "vscode": {
     "languageId": "sql"
    }
   },
   "outputs": [],
   "source": [
    "-- Define a streaming table to ingest data from a volume\n",
    "\n",
    "CREATE OR REFRESH STREAMING TABLE baby_names_raw\n",
    "COMMENT \"Popular baby first names in New York. This data was ingested from the New York State Department of Health.\"\n",
    "AS SELECT Year, `First Name` AS First_Name, County, Sex, Count\n",
    "FROM STREAM(read_files(\n",
    "  '/Volumes/${my_catalog}/${my_schema}/${my_volume}/',\n",
    "  format => 'csv',\n",
    "  header => true,\n",
    "  mode => 'FAILFAST'));\n",
    "\n",
    "-- Define a materialized view that validates data and renames a column\n",
    "\n",
    "CREATE OR REFRESH MATERIALIZED VIEW baby_names_prepared(\n",
    "  CONSTRAINT valid_first_name EXPECT (First_Name IS NOT NULL),\n",
    "  CONSTRAINT valid_count EXPECT (Count > 0) ON VIOLATION FAIL UPDATE\n",
    ")\n",
    "COMMENT \"New York popular baby first name data cleaned and prepared for analysis.\"\n",
    "AS SELECT\n",
    "  Year AS Year_Of_Birth,\n",
    "  First_Name,\n",
    "  Count\n",
    "FROM baby_names_raw;\n",
    "\n",
    "-- Define a materialized view that provides a filtered, aggregated, and sorted view of the data\n",
    "\n",
    "CREATE OR REFRESH MATERIALIZED VIEW top_baby_names_2021\n",
    "COMMENT \"A table summarizing counts of the top baby names for New York for 2021.\"\n",
    "AS SELECT\n",
    "  First_Name,\n",
    "  SUM(Count) AS Total_Count\n",
    "FROM baby_names_prepared\n",
    "WHERE Year_Of_Birth = 2021\n",
    "GROUP BY First_Name\n",
    "ORDER BY Total_Count DESC\n",
    "LIMIT 10;"
   ]
  },
  {
   "attachments": {
    "image.png": {
     "image/png": "[encoded data removed]"
    }
   },
   "cell_type": "markdown",
   "id": "8eeaac83",
   "metadata": {},
   "source": [
    "### **2. DLT Development Features**\n",
    "#### 2.1 Modes\n",
    "There are 2 modes available \n",
    "1. Development     \n",
    "2. Production \n",
    "\n",
    "![image.png](attachment:image.png)\n",
    "\n",
    "Above buttons is in the Pipelines UI to switch between these two modes.By default, pipelines run in **development** mode.\n",
    "\n"
   ]
  },
  {
   "cell_type": "markdown",
   "id": "03ddbf5d",
   "metadata": {},
   "source": [
    "2.1.1. Development Mode"
   ]
  },
  {
   "cell_type": "markdown",
   "id": "916a41a7",
   "metadata": {},
   "source": [
    "- **Reuses** a cluster to avoid the overhead of restarts\n",
    "- By default, clusters run for **two hours**\n",
    "- To control cluster shutdown behavior, `pipelines.clusterShutdown.delay` is used in pipeline configuration\n",
    "- **Disables pipeline retries** so you can immediately detect and fix errors."
   ]
  },
  {
   "cell_type": "markdown",
   "id": "56b2b9f5",
   "metadata": {},
   "source": [
    "2.1.2. Production Mode"
   ]
  },
  {
   "cell_type": "markdown",
   "id": "1b2f3d18",
   "metadata": {},
   "source": [
    "- **Shuts cluster** after imediate effect of complition of pipeline\n",
    "- **Restarts cluster** for specific recoverable errors, memory leaks and stale credentials\n",
    "- **Retries execution** in the event of specific errors, such as a failure to start a cluster.\n",
    "- The default value for `pipelines.clusterShutdown.delay` is `0s`."
   ]
  },
  {
   "cell_type": "markdown",
   "id": "2b56bc39",
   "metadata": {},
   "source": [
    "#### 2.2 Validate\n",
    "\n",
    "To check whether a pipeline’s **source code is valid without running a full update**, use  `Validate`.\n",
    "\n",
    "- check for definitions of datasets and flows.\n",
    "- does not materialize or publish any datasets.\n",
    "- Errors found during validation, such as incorrect table or column names, are reported in the UI"
   ]
  }
 ],
 "metadata": {
  "kernelspec": {
   "display_name": "Python 3",
   "language": "python",
   "name": "python3"
  },
  "language_info": {
   "codemirror_mode": {
    "name": "ipython",
    "version": 3
   },
   "file_extension": ".py",
   "mimetype": "text/x-python",
   "name": "python",
   "nbconvert_exporter": "python",
   "pygments_lexer": "ipython3",
   "version": "3.11.9"
  }
 },
 "nbformat": 4,
 "nbformat_minor": 5
}
