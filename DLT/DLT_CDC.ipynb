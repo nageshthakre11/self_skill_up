{
 "cells": [
  {
   "cell_type": "markdown",
   "id": "407b3de2",
   "metadata": {},
   "source": [
    "### **DLT Change Data Capture**\n",
    "\n",
    "1. APPLY CHANGES :- To process changes from a change data feed (CDF)\n",
    "2. APPLY CHANGES FROM SNAPSHOT :- To process changes in database snapshots\n",
    "\n"
   ]
  },
  {
   "cell_type": "markdown",
   "id": "b3507548",
   "metadata": {},
   "source": [
    "- Use **SCD type 1** to update records directly. History is not retained for updated records.\n",
    "- Use **SCD type 2** to retain a history of records, either on all updates or on updates to a specified set of columns."
   ]
  },
  {
   "cell_type": "markdown",
   "id": "b1f3f8ec",
   "metadata": {},
   "source": []
  }
 ],
 "metadata": {
  "language_info": {
   "name": "python"
  }
 },
 "nbformat": 4,
 "nbformat_minor": 5
}
