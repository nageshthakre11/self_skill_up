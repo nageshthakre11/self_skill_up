{
 "cells": [
  {
   "cell_type": "markdown",
   "id": "d4a4a011",
   "metadata": {},
   "source": [
    "## **Examples**"
   ]
  },
  {
   "cell_type": "markdown",
   "id": "609d37fd",
   "metadata": {},
   "source": [
    "### Find maximum element of List\n",
    "`t(n)` is run time for code.\n",
    "\n",
    "`n` --> input size\n",
    "\n",
    "**$t(n) = O(n)$**"
   ]
  },
  {
   "cell_type": "code",
   "execution_count": null,
   "id": "561dcd9c",
   "metadata": {},
   "outputs": [],
   "source": [
    "# Find maximum element of List\n",
    "\n",
    "my_list = [24, 67, 98, 34, 54, 66, 12, 79, 99, 123, 879, 456, 235] \n",
    "def max_element_list(L):\n",
    "    max_value = L[0]\n",
    "    for i in L:\n",
    "        if i > max_value:\n",
    "            max_value = i\n",
    "    return max_value\n",
    "    \n",
    "print(max_element_list(my_list))"
   ]
  },
  {
   "cell_type": "markdown",
   "id": "e03c03a7",
   "metadata": {},
   "source": [
    "### To check weather List contains Duplicates or Not\n",
    "\n",
    "True :- Duplicate elements are present in list\n",
    "\n",
    "Flase:- Duplicate elements are not present in list \n",
    "\n",
    "\n",
    "Note:- As code iterates for 2 cycle of `for` loop, so it has run time as fallows\n",
    "\n",
    "**$t(n) = O(n^2)$**"
   ]
  },
  {
   "cell_type": "code",
   "execution_count": null,
   "id": "ec41dfd9",
   "metadata": {},
   "outputs": [
    {
     "name": "stdout",
     "output_type": "stream",
     "text": [
      "True\n"
     ]
    }
   ],
   "source": [
    "# To check weather List contains Duplicates or Not\n",
    "l = [1, 4, 7, 3, 5, 7, 3]\n",
    "def duplicate_check(l):\n",
    "    flag = False\n",
    "    for i in range(len(l) - 1):\n",
    "        for j in range(i+1,len(l)):\n",
    "            if l[i] == l[j]:\n",
    "                flag = True\n",
    "    return flag      \n",
    "\n",
    "print(duplicate_check(l))  "
   ]
  },
  {
   "cell_type": "markdown",
   "id": "a6b65032",
   "metadata": {},
   "source": [
    "### Matrix Multiplication \n",
    "\n",
    "To do multiplication of 2 Matrixs, 3 `for` loops are iterated through lists. \n",
    "\n",
    "Overall time required is `O(rows, columns, k)`, if we consider square matrix multiplication then run time for code will be \n",
    "\n",
    "**$t(n) = O(n^3)$**"
   ]
  },
  {
   "cell_type": "code",
   "execution_count": 24,
   "id": "863e405f",
   "metadata": {},
   "outputs": [
    {
     "name": "stdout",
     "output_type": "stream",
     "text": [
      "[[30, 24, 19], [84, 69, 58], [138, 114, 97]]\n"
     ]
    }
   ],
   "source": [
    "# Matrix Multiplications \n",
    "A = [\n",
    "    [1, 2, 3],\n",
    "    [4, 5, 6],\n",
    "    [7, 8, 9]\n",
    "]\n",
    "\n",
    "# Matrix B (3x3)\n",
    "B = [\n",
    "    [9, 8, 8],\n",
    "    [6, 5, 4],\n",
    "    [3, 2, 1]\n",
    "]\n",
    "\n",
    "def matrix_multiplication(A, B):\n",
    "    rows = len(A)\n",
    "    column = len(B[0])\n",
    "    C = [ [0 for j in range(column)] for i in range(rows)]\n",
    "    #print(C)\n",
    "    # Matrix multiplication to get matrix C\n",
    "    for i in range(rows):\n",
    "        for j in range(column):\n",
    "            for k in range(len(B)):\n",
    "                C[i][j] = C[i][j] + A[i][k] * B[k][j]\n",
    "    return C\n",
    "\n",
    "print(matrix_multiplication(A, B))"
   ]
  },
  {
   "cell_type": "markdown",
   "id": "e7bb4f26",
   "metadata": {},
   "source": [
    "## **Searching in List**\n",
    "### **1. Naive Approch**\n",
    "\n",
    "input_size = length of list (n)\n",
    "\n",
    "worst case is when the element is not in list and need to search that element throughout the list\n",
    "\n",
    "one `for` loop is used to search element in given list, so \n",
    "\n",
    "**Run Time = **$t(n) = O(n)$****"
   ]
  },
  {
   "cell_type": "code",
   "execution_count": 27,
   "id": "2722cb61",
   "metadata": {},
   "outputs": [
    {
     "name": "stdout",
     "output_type": "stream",
     "text": [
      "False\n"
     ]
    }
   ],
   "source": [
    "# Searching in List ** Naive Approch **\n",
    "l = list(range(100))\n",
    "def search_val(l,v):\n",
    "    flag = False\n",
    "    for i in l:\n",
    "        if i == v:\n",
    "            flag = True\n",
    "    return flag\n",
    "\n",
    "print(search_val(l,111))"
   ]
  },
  {
   "cell_type": "markdown",
   "id": "a950b75e",
   "metadata": {},
   "source": [
    "#### **2. Binary Search**\n",
    "\n",
    "Note:- consider the list is sorted in ascending order \n",
    "\n",
    "$log(n)$ :- number of times need to divide the list of length n, by 2 to get 1 element\n",
    "\n",
    "**$t(n) = O(log(n))$**"
   ]
  },
  {
   "cell_type": "code",
   "execution_count": 41,
   "id": "8fb4206b",
   "metadata": {},
   "outputs": [
    {
     "name": "stdout",
     "output_type": "stream",
     "text": [
      "True\n"
     ]
    }
   ],
   "source": [
    "l = [1, 2, 3, 4, 5]\n",
    "\n",
    "def binary_search(l,v):\n",
    "    \n",
    "    if l == []:\n",
    "        return False\n",
    "    \n",
    "    mid_pos = len(l)//2\n",
    "    \n",
    "    if v == l[mid_pos]:\n",
    "        return True\n",
    "    \n",
    "    if v < l[mid_pos]:\n",
    "        return (binary_search(l[:mid_pos], v))\n",
    "    else:\n",
    "        return (binary_search(l[mid_pos+1:], v))\n",
    "    \n",
    "print(binary_search(l,2))"
   ]
  },
  {
   "cell_type": "markdown",
   "id": "7506a5bd",
   "metadata": {},
   "source": [
    "## **Sorting List**\n",
    "\n",
    "### **1. Selection Sort**\n",
    "\n",
    "Swap the minimum element in first positon, second minimum position to second position. \n",
    "\n",
    "**$t(n) = O(n^2)$**"
   ]
  },
  {
   "cell_type": "code",
   "execution_count": 4,
   "id": "8bcccded",
   "metadata": {},
   "outputs": [
    {
     "name": "stdout",
     "output_type": "stream",
     "text": [
      "[2, 3, 5, 6, 10, 11, 12, 17, 20, 21, 22, 25, 26, 28, 29, 31, 32, 34, 36, 37, 39, 40, 41, 42, 44, 46, 50, 51, 52, 53, 54, 55, 56, 57, 58, 59, 60, 63, 64, 68, 70, 71, 72, 75, 76, 79, 81, 82, 83, 85, 87, 88, 90, 91, 92, 94, 96, 97, 98, 99]\n"
     ]
    }
   ],
   "source": [
    "# Sorted List \n",
    "l = [20, 64, 71, 21, 72, 6, 32, 79, 29, 39, 53, 22, 50, 25, 41, 10, 31, 44, 87, 3, 51, 63, 40, 17, 91, 81, 59, 96, 82, 60, 76, 5, 2, 46, 85, 28, 54, 55, 37, 42, 98, 34, 83, 58, 70, 94, 26, 99, 92, 56, 75, 68, 12, 36, 97, 52, 88, 90, 11, 57]\n",
    "def selection_sort(l):\n",
    "    for i in range(len(l)-1):\n",
    "        min_index = i\n",
    "        for j in range(i+1, len(l)):\n",
    "            if l[j] < l[min_index]:\n",
    "                min_index = j\n",
    "        l[i], l[min_index] = l[min_index], l[i]\n",
    "    return l\n",
    "\n",
    "print(selection_sort(l))"
   ]
  },
  {
   "cell_type": "markdown",
   "id": "a4b057a1",
   "metadata": {},
   "source": [
    "### **2. Insertion Sort**\n",
    "Pick next element and insert it into sorted list.\n",
    "\n",
    "a. Iterative Formula\n",
    "\n",
    "**$t(n) = O(n^2)$**"
   ]
  },
  {
   "cell_type": "code",
   "execution_count": 12,
   "id": "1dee1d60",
   "metadata": {},
   "outputs": [
    {
     "name": "stdout",
     "output_type": "stream",
     "text": [
      "[13, 20, 27, 30, 31, 32, 38, 39, 72, 83, 85, 90, 92, 103]\n"
     ]
    }
   ],
   "source": [
    "### **2. Insertion Sort**\n",
    "l = [90, 38, 103, 13, 32, 92, 30, 85, 72, 83, 39, 20, 27, 31]\n",
    "\n",
    "def insertion_sort(l):\n",
    "    n = len(l)\n",
    "    if n < 1:\n",
    "        return l\n",
    "\n",
    "    for i in range(1, n):\n",
    "        j = i\n",
    "        while j > 0 and l[j] < l[j-1]:\n",
    "            l[j], l[j-1] = l[j-1], l[j]\n",
    "            j -= 1\n",
    "\n",
    "    return l\n",
    "print(insertion_sort(l))"
   ]
  },
  {
   "cell_type": "markdown",
   "id": "ac100673",
   "metadata": {},
   "source": []
  }
 ],
 "metadata": {
  "kernelspec": {
   "display_name": "Python 3",
   "language": "python",
   "name": "python3"
  },
  "language_info": {
   "codemirror_mode": {
    "name": "ipython",
    "version": 3
   },
   "file_extension": ".py",
   "mimetype": "text/x-python",
   "name": "python",
   "nbconvert_exporter": "python",
   "pygments_lexer": "ipython3",
   "version": "3.11.9"
  }
 },
 "nbformat": 4,
 "nbformat_minor": 5
}
