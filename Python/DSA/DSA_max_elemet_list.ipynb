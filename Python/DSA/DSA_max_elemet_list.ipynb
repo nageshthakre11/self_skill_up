{
 "cells": [
  {
   "cell_type": "markdown",
   "id": "d4a4a011",
   "metadata": {},
   "source": [
    "## **Examples**"
   ]
  },
  {
   "cell_type": "markdown",
   "id": "609d37fd",
   "metadata": {},
   "source": [
    "### Find maximum element of List\n",
    "`t(n)` is run time for code.\n",
    "\n",
    "`n` --> input size\n",
    "\n",
    "**$t(n) = O(n)$**"
   ]
  },
  {
   "cell_type": "code",
   "execution_count": null,
   "id": "561dcd9c",
   "metadata": {},
   "outputs": [],
   "source": [
    "# Find maximum element of List\n",
    "\n",
    "my_list = [24, 67, 98, 34, 54, 66, 12, 79, 99, 123, 879, 456, 235] \n",
    "def max_element_list(L):\n",
    "    max_value = L[0]\n",
    "    for i in L:\n",
    "        if i > max_value:\n",
    "            max_value = i\n",
    "    return max_value\n",
    "    \n",
    "print(max_element_list(my_list))"
   ]
  },
  {
   "cell_type": "markdown",
   "id": "e03c03a7",
   "metadata": {},
   "source": [
    "### To check weather List contains Duplicates or Not\n",
    "\n",
    "True :- Duplicate elements are present in list\n",
    "\n",
    "Flase:- Duplicate elements are not present in list \n",
    "\n",
    "\n",
    "Note:- As code iterates for 2 cycle of `for` loop, so it has run time as fallows\n",
    "\n",
    "**$t(n) = O(n^2)$**"
   ]
  },
  {
   "cell_type": "code",
   "execution_count": null,
   "id": "ec41dfd9",
   "metadata": {},
   "outputs": [
    {
     "name": "stdout",
     "output_type": "stream",
     "text": [
      "True\n"
     ]
    }
   ],
   "source": [
    "# To check weather List contains Duplicates or Not\n",
    "l = [1, 4, 7, 3, 5, 7, 3]\n",
    "def duplicate_check(l):\n",
    "    flag = False\n",
    "    for i in range(len(l) - 1):\n",
    "        for j in range(i+1,len(l)):\n",
    "            if l[i] == l[j]:\n",
    "                flag = True\n",
    "    return flag      \n",
    "\n",
    "print(duplicate_check(l))  "
   ]
  },
  {
   "cell_type": "markdown",
   "id": "a6b65032",
   "metadata": {},
   "source": [
    "### Matrix Multiplication \n",
    "\n",
    "To do multiplication of 2 Matrixs, 3 `for` loops are iterated through lists. \n",
    "\n",
    "Overall time required is `O(rows, columns, k)`, if we consider square matrix multiplication then run time for code will be \n",
    "\n",
    "**$t(n) = O(n^3)$**"
   ]
  },
  {
   "cell_type": "code",
   "execution_count": 24,
   "id": "863e405f",
   "metadata": {},
   "outputs": [
    {
     "name": "stdout",
     "output_type": "stream",
     "text": [
      "[[30, 24, 19], [84, 69, 58], [138, 114, 97]]\n"
     ]
    }
   ],
   "source": [
    "# Matrix Multiplications \n",
    "A = [\n",
    "    [1, 2, 3],\n",
    "    [4, 5, 6],\n",
    "    [7, 8, 9]\n",
    "]\n",
    "\n",
    "# Matrix B (3x3)\n",
    "B = [\n",
    "    [9, 8, 8],\n",
    "    [6, 5, 4],\n",
    "    [3, 2, 1]\n",
    "]\n",
    "\n",
    "def matrix_multiplication(A, B):\n",
    "    rows = len(A)\n",
    "    column = len(B[0])\n",
    "    C = [ [0 for j in range(column)] for i in range(rows)]\n",
    "    #print(C)\n",
    "    # Matrix multiplication to get matrix C\n",
    "    for i in range(rows):\n",
    "        for j in range(column):\n",
    "            for k in range(len(B)):\n",
    "                C[i][j] = C[i][j] + A[i][k] * B[k][j]\n",
    "    return C\n",
    "\n",
    "print(matrix_multiplication(A, B))"
   ]
  },
  {
   "cell_type": "markdown",
   "id": "e7bb4f26",
   "metadata": {},
   "source": [
    "## **Searching in List**\n",
    "### **1. Naive Approch**\n",
    "\n",
    "input_size = length of list (n)\n",
    "\n",
    "worst case is when the element is not in list and need to search that element throughout the list\n",
    "\n",
    "one `for` loop is used to search element in given list, so \n",
    "\n",
    "**Run Time = **$t(n) = O(n)$****"
   ]
  },
  {
   "cell_type": "code",
   "execution_count": 27,
   "id": "2722cb61",
   "metadata": {},
   "outputs": [
    {
     "name": "stdout",
     "output_type": "stream",
     "text": [
      "False\n"
     ]
    }
   ],
   "source": [
    "# Searching in List ** Naive Approch **\n",
    "l = list(range(100))\n",
    "def search_val(l,v):\n",
    "    flag = False\n",
    "    for i in l:\n",
    "        if i == v:\n",
    "            flag = True\n",
    "    return flag\n",
    "\n",
    "print(search_val(l,111))"
   ]
  },
  {
   "cell_type": "markdown",
   "id": "a950b75e",
   "metadata": {},
   "source": [
    "#### **2. Binary Search**\n",
    "\n",
    "Note:- consider the list is sorted in ascending order \n",
    "\n",
    "$log(n)$ :- number of times need to divide the list of length n, by 2 to get 1 element\n",
    "\n",
    "**$t(n) = O(log(n))$**"
   ]
  },
  {
   "cell_type": "code",
   "execution_count": 41,
   "id": "8fb4206b",
   "metadata": {},
   "outputs": [
    {
     "name": "stdout",
     "output_type": "stream",
     "text": [
      "True\n"
     ]
    }
   ],
   "source": [
    "l = [1, 2, 3, 4, 5]\n",
    "\n",
    "def binary_search(l,v):\n",
    "    \n",
    "    if l == []:\n",
    "        return False\n",
    "    \n",
    "    mid_pos = len(l)//2\n",
    "    \n",
    "    if v == l[mid_pos]:\n",
    "        return True\n",
    "    \n",
    "    if v < l[mid_pos]:\n",
    "        return (binary_search(l[:mid_pos], v))\n",
    "    else:\n",
    "        return (binary_search(l[mid_pos+1:], v))\n",
    "    \n",
    "print(binary_search(l,2))"
   ]
  },
  {
   "cell_type": "markdown",
   "id": "7506a5bd",
   "metadata": {},
   "source": [
    "## **Sorting List**"
   ]
  },
  {
   "cell_type": "markdown",
   "id": "8aa40531",
   "metadata": {},
   "source": []
  }
 ],
 "metadata": {
  "kernelspec": {
   "display_name": "Python 3",
   "language": "python",
   "name": "python3"
  },
  "language_info": {
   "codemirror_mode": {
    "name": "ipython",
    "version": 3
   },
   "file_extension": ".py",
   "mimetype": "text/x-python",
   "name": "python",
   "nbconvert_exporter": "python",
   "pygments_lexer": "ipython3",
   "version": "3.11.9"
  }
 },
 "nbformat": 4,
 "nbformat_minor": 5
}
