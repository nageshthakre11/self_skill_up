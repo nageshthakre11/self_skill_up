{
 "cells": [
  {
   "cell_type": "markdown",
   "id": "d4a4a011",
   "metadata": {},
   "source": [
    "## **Examples**"
   ]
  },
  {
   "cell_type": "markdown",
   "id": "609d37fd",
   "metadata": {},
   "source": [
    "### Find maximum element of List\n",
    "`t(n)` is run time for code.\n",
    "\n",
    "`n` --> input size\n",
    "\n",
    "**$t(n) = O(n)$**"
   ]
  },
  {
   "cell_type": "code",
   "execution_count": null,
   "id": "561dcd9c",
   "metadata": {},
   "outputs": [],
   "source": [
    "# Find maximum element of List\n",
    "\n",
    "my_list = [24, 67, 98, 34, 54, 66, 12, 79, 99, 123, 879, 456, 235] \n",
    "def max_element_list(L):\n",
    "    max_value = L[0]\n",
    "    for i in L:\n",
    "        if i > max_value:\n",
    "            max_value = i\n",
    "    return max_value\n",
    "    \n",
    "print(max_element_list(my_list))"
   ]
  },
  {
   "cell_type": "markdown",
   "id": "e03c03a7",
   "metadata": {},
   "source": [
    "### To check weather List contains Duplicates or Not\n",
    "\n",
    "True :- Duplicate elements are present in list\n",
    "\n",
    "Flase:- Duplicate elements are not present in list \n",
    "\n",
    "\n",
    "Note:- As code iterates for 2 cycle of `for` loop, so it has run time as fallows\n",
    "\n",
    "**$t(n) = O(n^2)$**"
   ]
  },
  {
   "cell_type": "code",
   "execution_count": null,
   "id": "ec41dfd9",
   "metadata": {},
   "outputs": [
    {
     "name": "stdout",
     "output_type": "stream",
     "text": [
      "True\n"
     ]
    }
   ],
   "source": [
    "# To check weather List contains Duplicates or Not\n",
    "l = [1, 4, 7, 3, 5, 7, 3]\n",
    "def duplicate_check(l):\n",
    "    flag = False\n",
    "    for i in range(len(l) - 1):\n",
    "        for j in range(i+1,len(l)):\n",
    "            if l[i] == l[j]:\n",
    "                flag = True\n",
    "    return flag      \n",
    "\n",
    "print(duplicate_check(l))  "
   ]
  },
  {
   "cell_type": "markdown",
   "id": "a6b65032",
   "metadata": {},
   "source": [
    "### Matrix Multiplication \n",
    "\n",
    "To do multiplication of 2 Matrixs, 3 `for` loops are iterated through lists. \n",
    "\n",
    "Overall time required is `O(rows, columns, k)`, if we consider square matrix multiplication then run time for code will be \n",
    "\n",
    "**$t(n) = O(n^3)$**"
   ]
  },
  {
   "cell_type": "code",
   "execution_count": 24,
   "id": "863e405f",
   "metadata": {},
   "outputs": [
    {
     "name": "stdout",
     "output_type": "stream",
     "text": [
      "[[30, 24, 19], [84, 69, 58], [138, 114, 97]]\n"
     ]
    }
   ],
   "source": [
    "# Matrix Multiplications \n",
    "A = [\n",
    "    [1, 2, 3],\n",
    "    [4, 5, 6],\n",
    "    [7, 8, 9]\n",
    "]\n",
    "\n",
    "# Matrix B (3x3)\n",
    "B = [\n",
    "    [9, 8, 8],\n",
    "    [6, 5, 4],\n",
    "    [3, 2, 1]\n",
    "]\n",
    "\n",
    "def matrix_multiplication(A, B):\n",
    "    rows = len(A)\n",
    "    column = len(B[0])\n",
    "    C = [ [0 for j in range(column)] for i in range(rows)]\n",
    "    #print(C)\n",
    "    # Matrix multiplication to get matrix C\n",
    "    for i in range(rows):\n",
    "        for j in range(column):\n",
    "            for k in range(len(B)):\n",
    "                C[i][j] = C[i][j] + A[i][k] * B[k][j]\n",
    "    return C\n",
    "\n",
    "print(matrix_multiplication(A, B))"
   ]
  },
  {
   "cell_type": "markdown",
   "id": "e7bb4f26",
   "metadata": {},
   "source": [
    "## **Searching in List**\n",
    "### **1. Naive Approch**\n",
    "\n",
    "input_size = length of list (n)\n",
    "\n",
    "worst case is when the element is not in list and need to search that element throughout the list\n",
    "\n",
    "one `for` loop is used to search element in given list, so \n",
    "\n",
    "**Run Time = **$t(n) = O(n)$****"
   ]
  },
  {
   "cell_type": "code",
   "execution_count": 27,
   "id": "2722cb61",
   "metadata": {},
   "outputs": [
    {
     "name": "stdout",
     "output_type": "stream",
     "text": [
      "False\n"
     ]
    }
   ],
   "source": [
    "# Searching in List ** Naive Approch **\n",
    "l = list(range(100))\n",
    "def search_val(l,v):\n",
    "    flag = False\n",
    "    for i in l:\n",
    "        if i == v:\n",
    "            flag = True\n",
    "    return flag\n",
    "\n",
    "print(search_val(l,111))"
   ]
  },
  {
   "cell_type": "markdown",
   "id": "a950b75e",
   "metadata": {},
   "source": [
    "#### **2. Binary Search**\n",
    "\n",
    "Note:- consider the list is sorted in ascending order \n",
    "\n",
    "$log(n)$ :- number of times need to divide the list of length n, by 2 to get 1 element\n",
    "\n",
    "**$t(n) = O(log(n))$**"
   ]
  },
  {
   "cell_type": "code",
   "execution_count": 41,
   "id": "8fb4206b",
   "metadata": {},
   "outputs": [
    {
     "name": "stdout",
     "output_type": "stream",
     "text": [
      "True\n"
     ]
    }
   ],
   "source": [
    "l = [1, 2, 3, 4, 5]\n",
    "\n",
    "def binary_search(l,v):\n",
    "    \n",
    "    if l == []:\n",
    "        return False\n",
    "    \n",
    "    mid_pos = len(l)//2\n",
    "    \n",
    "    if v == l[mid_pos]:\n",
    "        return True\n",
    "    \n",
    "    if v < l[mid_pos]:\n",
    "        return (binary_search(l[:mid_pos], v))\n",
    "    else:\n",
    "        return (binary_search(l[mid_pos+1:], v))\n",
    "    \n",
    "print(binary_search(l,2))"
   ]
  },
  {
   "cell_type": "markdown",
   "id": "7506a5bd",
   "metadata": {},
   "source": [
    "## **Sorting List**\n",
    "\n",
    "### **1. Selection Sort**\n",
    "\n",
    "Swap the minimum element in first positon, second minimum position to second position. \n",
    "\n",
    "**$t(n) = O(n^2)$**"
   ]
  },
  {
   "cell_type": "code",
   "execution_count": 13,
   "id": "8bcccded",
   "metadata": {},
   "outputs": [
    {
     "name": "stdout",
     "output_type": "stream",
     "text": [
      "[2, 3, 5, 6, 10, 11, 12, 17, 20, 21, 22, 25, 26, 28, 29, 31, 32, 34, 36, 37, 39, 40, 41, 42, 44, 46, 50, 51, 52, 53, 54, 55, 56, 57, 58, 59, 60, 63, 64, 68, 70, 71, 72, 75, 76, 79, 81, 82, 83, 85, 87, 88, 90, 91, 92, 94, 96, 97, 98, 99]\n"
     ]
    }
   ],
   "source": [
    "# Sorted List \n",
    "l = [20, 64, 71, 21, 72, 6, 32, 79, 29, 39, 53, 22, 50, 25, 41, 10, 31, 44, 87, 3, 51, 63, 40, 17, 91, 81, 59, 96, 82, 60, 76, 5, 2, 46, 85, 28, 54, 55, 37, 42, 98, 34, 83, 58, 70, 94, 26, 99, 92, 56, 75, 68, 12, 36, 97, 52, 88, 90, 11, 57]\n",
    "def selection_sort(l):\n",
    "    for i in range(len(l)-1):\n",
    "        min_index = i\n",
    "        for j in range(i+1, len(l)):\n",
    "            if l[j] < l[min_index]:\n",
    "                min_index = j\n",
    "        l[i], l[min_index] = l[min_index], l[i]\n",
    "    return l\n",
    "\n",
    "print(selection_sort(l))"
   ]
  },
  {
   "cell_type": "markdown",
   "id": "a4b057a1",
   "metadata": {},
   "source": [
    "### **2. Insertion Sort**\n",
    "Pick next element and insert it into sorted list.\n",
    "\n",
    "a. Iterative Formula\n",
    "\n",
    "**$t(n) = O(n^2)$**"
   ]
  },
  {
   "cell_type": "code",
   "execution_count": 12,
   "id": "1dee1d60",
   "metadata": {},
   "outputs": [
    {
     "name": "stdout",
     "output_type": "stream",
     "text": [
      "[13, 20, 27, 30, 31, 32, 38, 39, 72, 83, 85, 90, 92, 103]\n"
     ]
    }
   ],
   "source": [
    "### **2. Insertion Sort**\n",
    "l = [90, 38, 103, 13, 32, 92, 30, 85, 72, 83, 39, 20, 27, 31]\n",
    "\n",
    "def insertion_sort(l):\n",
    "    n = len(l)\n",
    "    if n < 1:\n",
    "        return l\n",
    "\n",
    "    for i in range(1, n):\n",
    "        j = i\n",
    "        while j > 0 and l[j] < l[j-1]:\n",
    "            l[j], l[j-1] = l[j-1], l[j]\n",
    "            j -= 1\n",
    "\n",
    "    return l\n",
    "print(insertion_sort(l))"
   ]
  },
  {
   "cell_type": "markdown",
   "id": "ecfe11f7",
   "metadata": {},
   "source": [
    "### **3. Merge Sort**\n",
    "\n",
    "Devide the list into 2 halves, sort left and right lists independently.\n",
    "\n",
    "combine both sorted list and get single sorted list.\n",
    "\n",
    "`merge(A,B)` This function is used to merge the 2 sorted lists. List A & B both are already sorted in ascending order. \n",
    "\n",
    "`sort_merge(list)` :- This function is used to devide the list into 2 halves till we get single element in list and then merge that left and right list in ascending order by using `merge(L,R)` function\n",
    "\n",
    "**$t(n) = O(n  log(n))$**\n",
    "\n",
    "Go through the ouput of code to understand the result working of sort_merge algorithm \n"
   ]
  },
  {
   "cell_type": "code",
   "execution_count": 2,
   "id": "b85e37be",
   "metadata": {},
   "outputs": [
    {
     "name": "stdout",
     "output_type": "stream",
     "text": [
      "[1, 2, 3, 4, 5, 6, 7, 9, 9, 10]\n"
     ]
    }
   ],
   "source": [
    "def merge(A, B):\n",
    "    (m, n)          = (len(A), len(B))\n",
    "    (c, i, j, k)    = ([], 0, 0, 0)\n",
    "\n",
    "    while k < m+n:\n",
    "        if j == n:\n",
    "            c.extend(A[i:])\n",
    "            k = k + (m - i)\n",
    "        elif i == m:\n",
    "            c.extend(B[j:])\n",
    "            k = k + (n -j)\n",
    "        elif A[i] < B[j]:\n",
    "            c.append(A[i])\n",
    "            (i, k) = (i+1, k+1)\n",
    "        else:\n",
    "            c.append(B[j])\n",
    "            (j, k) = (j +1, k +1) \n",
    "    return c   \n",
    "\n",
    "\n",
    "A = [ 1, 4, 6, 7, 9]\n",
    "B = [2, 3, 5, 9, 10]\n",
    "print(merge(A, B))"
   ]
  },
  {
   "cell_type": "code",
   "execution_count": 12,
   "id": "6785cad8",
   "metadata": {},
   "outputs": [
    {
     "name": "stdout",
     "output_type": "stream",
     "text": [
      "Devide list into 2 halves [53, 42, 26, 11, 8, 10, 23] [54, 67, 84, 12, 32, 33, 89]\n",
      "Devide list into 2 halves [53, 42, 26] [11, 8, 10, 23]\n",
      "Devide list into 2 halves [53] [42, 26]\n",
      "L After Slicing --> [53]\n",
      "Devide list into 2 halves [42] [26]\n",
      "L After Slicing --> [42]\n",
      "R After Slicing --> [26]\n",
      "After merge operation happens on [42] and [26]\n",
      "[26, 42]\n",
      "\n",
      "\n",
      "R After Slicing --> [26, 42]\n",
      "After merge operation happens on [53] and [26, 42]\n",
      "[26, 42, 53]\n",
      "\n",
      "\n",
      "L After Slicing --> [26, 42, 53]\n",
      "Devide list into 2 halves [11, 8] [10, 23]\n",
      "Devide list into 2 halves [11] [8]\n",
      "L After Slicing --> [11]\n",
      "R After Slicing --> [8]\n",
      "After merge operation happens on [11] and [8]\n",
      "[8, 11]\n",
      "\n",
      "\n",
      "L After Slicing --> [8, 11]\n",
      "Devide list into 2 halves [10] [23]\n",
      "L After Slicing --> [10]\n",
      "R After Slicing --> [23]\n",
      "After merge operation happens on [10] and [23]\n",
      "[10, 23]\n",
      "\n",
      "\n",
      "R After Slicing --> [10, 23]\n",
      "After merge operation happens on [8, 11] and [10, 23]\n",
      "[8, 10, 11, 23]\n",
      "\n",
      "\n",
      "R After Slicing --> [8, 10, 11, 23]\n",
      "After merge operation happens on [26, 42, 53] and [8, 10, 11, 23]\n",
      "[8, 10, 11, 23, 26, 42, 53]\n",
      "\n",
      "\n",
      "L After Slicing --> [8, 10, 11, 23, 26, 42, 53]\n",
      "Devide list into 2 halves [54, 67, 84] [12, 32, 33, 89]\n",
      "Devide list into 2 halves [54] [67, 84]\n",
      "L After Slicing --> [54]\n",
      "Devide list into 2 halves [67] [84]\n",
      "L After Slicing --> [67]\n",
      "R After Slicing --> [84]\n",
      "After merge operation happens on [67] and [84]\n",
      "[67, 84]\n",
      "\n",
      "\n",
      "R After Slicing --> [67, 84]\n",
      "After merge operation happens on [54] and [67, 84]\n",
      "[54, 67, 84]\n",
      "\n",
      "\n",
      "L After Slicing --> [54, 67, 84]\n",
      "Devide list into 2 halves [12, 32] [33, 89]\n",
      "Devide list into 2 halves [12] [32]\n",
      "L After Slicing --> [12]\n",
      "R After Slicing --> [32]\n",
      "After merge operation happens on [12] and [32]\n",
      "[12, 32]\n",
      "\n",
      "\n",
      "L After Slicing --> [12, 32]\n",
      "Devide list into 2 halves [33] [89]\n",
      "L After Slicing --> [33]\n",
      "R After Slicing --> [89]\n",
      "After merge operation happens on [33] and [89]\n",
      "[33, 89]\n",
      "\n",
      "\n",
      "R After Slicing --> [33, 89]\n",
      "After merge operation happens on [12, 32] and [33, 89]\n",
      "[12, 32, 33, 89]\n",
      "\n",
      "\n",
      "R After Slicing --> [12, 32, 33, 89]\n",
      "After merge operation happens on [54, 67, 84] and [12, 32, 33, 89]\n",
      "[12, 32, 33, 54, 67, 84, 89]\n",
      "\n",
      "\n",
      "R After Slicing --> [12, 32, 33, 54, 67, 84, 89]\n",
      "After merge operation happens on [8, 10, 11, 23, 26, 42, 53] and [12, 32, 33, 54, 67, 84, 89]\n",
      "[8, 10, 11, 12, 23, 26, 32, 33, 42, 53, 54, 67, 84, 89]\n",
      "\n",
      "\n",
      "[8, 10, 11, 12, 23, 26, 32, 33, 42, 53, 54, 67, 84, 89]\n"
     ]
    }
   ],
   "source": [
    "def sort_merge(list_a):\n",
    "    l = len(list_a)\n",
    "    if l <= 1:\n",
    "        return list_a\n",
    "    print('Devide list into 2 halves', list_a[:l//2], list_a[l//2:])  \n",
    "    L = sort_merge(list_a[:l//2])\n",
    "    print('L After Slicing -->', L)\n",
    "    R = sort_merge(list_a[l//2:])\n",
    "    print('R After Slicing -->', R)\n",
    "\n",
    "    B = merge(L,R)\n",
    "    print(f'After merge operation happens on {L} and {R}')\n",
    "    print(B)\n",
    "    print('\\n')\n",
    "\n",
    "    return B\n",
    "list_a = [53,42,26,11,8,10, 23, 54, 67, 84, 12, 32, 33, 89]\n",
    "print(sort_merge(list_a))    "
   ]
  },
  {
   "cell_type": "markdown",
   "id": "e73e4466",
   "metadata": {},
   "source": [
    "### 4. QuickSort"
   ]
  },
  {
   "cell_type": "markdown",
   "id": "e1273c80",
   "metadata": {},
   "source": [
    "### Limitation of Merge sort \n",
    "\n",
    "Merge need to create new list that holds merged elements\n",
    "\n",
    "extra storage needed which may be costlier\n",
    "\n",
    "`recursive inheritance` function calls and results are expensive\n",
    "\n",
    "erging happens as elements need to move from left half to right half and vice versa\n",
    "\n",
    "**No need to merge** if the elemets from Left half is smaller than Right Half"
   ]
  },
  {
   "cell_type": "markdown",
   "id": "a2054c2e",
   "metadata": {},
   "source": [
    "### Devide and Conquer without merging \n",
    "\n",
    "consider `pivot` as median of give list.\n",
    "\n",
    "**Partition :-** move all elements such that, elemets will lie on Left Half of pivot if **element <= `pivot`**   else on Right Half. \n",
    "\n",
    "Recursively sort the Left and Right Halves.\n",
    "\n",
    "Once complete List L is sorted then no need to merge.\n",
    "\n",
    "Average Time\n",
    "\n",
    "**$T(n) = O(n log (n))$**\n",
    "\n"
   ]
  },
  {
   "cell_type": "markdown",
   "id": "4bfd0948",
   "metadata": {},
   "source": [
    "#### Understanding the Partiotion of List by Devide and Conquer Method"
   ]
  },
  {
   "cell_type": "code",
   "execution_count": 5,
   "id": "f83db49a",
   "metadata": {},
   "outputs": [
    {
     "name": "stdout",
     "output_type": "stream",
     "text": [
      "12\n",
      "Lower is -> 1 Upper is -> 2\n",
      "[6, 12, 5, 9, 2, 4, 7, 4, 1, 23, 42]\n",
      "------------------------------------\n",
      "5\n",
      "Lower is -> 2 Upper is -> 3\n",
      "[6, 5, 12, 9, 2, 4, 7, 4, 1, 23, 42]\n",
      "------------------------------------\n",
      "9\n",
      "Lower is -> 2 Upper is -> 4\n",
      "[6, 5, 12, 9, 2, 4, 7, 4, 1, 23, 42]\n",
      "------------------------------------\n",
      "2\n",
      "Lower is -> 3 Upper is -> 5\n",
      "[6, 5, 2, 9, 12, 4, 7, 4, 1, 23, 42]\n",
      "------------------------------------\n",
      "4\n",
      "Lower is -> 4 Upper is -> 6\n",
      "[6, 5, 2, 4, 12, 9, 7, 4, 1, 23, 42]\n",
      "------------------------------------\n",
      "7\n",
      "Lower is -> 4 Upper is -> 7\n",
      "[6, 5, 2, 4, 12, 9, 7, 4, 1, 23, 42]\n",
      "------------------------------------\n",
      "4\n",
      "Lower is -> 5 Upper is -> 8\n",
      "[6, 5, 2, 4, 4, 9, 7, 12, 1, 23, 42]\n",
      "------------------------------------\n",
      "1\n",
      "Lower is -> 6 Upper is -> 9\n",
      "[6, 5, 2, 4, 4, 1, 7, 12, 9, 23, 42]\n",
      "------------------------------------\n",
      "23\n",
      "Lower is -> 6 Upper is -> 10\n",
      "[6, 5, 2, 4, 4, 1, 7, 12, 9, 23, 42]\n",
      "------------------------------------\n",
      "42\n",
      "Lower is -> 6 Upper is -> 11\n",
      "[6, 5, 2, 4, 4, 1, 7, 12, 9, 23, 42]\n",
      "------------------------------------\n"
     ]
    }
   ],
   "source": [
    "L = [6, 12, 5, 9, 2, 4, 7, 4, 1, 23, 42]\n",
    "r = len(L)\n",
    "l = 0\n",
    "pivot = L[0]\n",
    "lower = l + 1\n",
    "upper = l + 1\n",
    "\n",
    "for i in range(l +1 , r):\n",
    "    print(L[i])\n",
    "    if L[i] > pivot:\n",
    "        # shifting the index for Right half\n",
    "        upper = upper + 1\n",
    "    else:\n",
    "        # as element is below pivot, assigning that element in Left half with replacing the starting element of Right half\n",
    "        (L[i], L[lower]) = (L[lower], L[i])\n",
    "        # incrementing the Left and Right Half\n",
    "        (lower, upper) = (lower+1, upper +1)\n",
    "    print(\"Lower is ->\",lower,\"Upper is ->\",upper)\n",
    "    print(L)\n",
    "    print('------------------------------------')\n",
    "# after completing the partition as Left and Right Half, assign the pivot at desire position i.e. by replacing the end of Left half with pivot \n",
    "(L[0], L[lower-1]) = (L[lower-1], L[0])"
   ]
  },
  {
   "cell_type": "markdown",
   "id": "8003a956",
   "metadata": {},
   "source": [
    "Go throgh above code and its output to understand the partitioning happen for quicksort\n",
    "\n",
    "Implementing the above partition way and then qucicksorting the left and right half recursively "
   ]
  },
  {
   "cell_type": "code",
   "execution_count": 10,
   "id": "778d9e1a",
   "metadata": {},
   "outputs": [
    {
     "name": "stdout",
     "output_type": "stream",
     "text": [
      "[1, 2, 4, 4, 5, 6, 7, 9, 12, 23, 42]\n"
     ]
    }
   ],
   "source": [
    "# sort the list  L[l:r]\n",
    "L = [6, 12, 5, 9, 2, 4, 7, 4, 1, 23, 42]\n",
    "def quicksort(L, l, r):\n",
    "    if (r - l) < 1:\n",
    "        return (L)\n",
    "\n",
    "    (pivot, lower, upper) = (L[l], l+1, l+1)\n",
    "\n",
    "    for i in range(l+1, r):\n",
    "        if L[i] > pivot:\n",
    "            upper = upper + 1\n",
    "\n",
    "        else:\n",
    "            (L[i], L[lower]) = (L[lower], L[i])\n",
    "            (lower, upper) = (lower +1, upper +1)\n",
    "\n",
    "    (L[l], L[lower - 1]) = (L[lower - 1], L[l])\n",
    "    lower = lower - 1\n",
    "    quicksort(L, l, lower)\n",
    "    quicksort(L, lower + 1, upper)\n",
    "    return (L)\n",
    "\n",
    "print(quicksort(L, l = 0, r = len(L)))"
   ]
  },
  {
   "cell_type": "code",
   "execution_count": null,
   "id": "e577f548",
   "metadata": {},
   "outputs": [],
   "source": []
  }
 ],
 "metadata": {
  "kernelspec": {
   "display_name": "Python 3",
   "language": "python",
   "name": "python3"
  },
  "language_info": {
   "codemirror_mode": {
    "name": "ipython",
    "version": 3
   },
   "file_extension": ".py",
   "mimetype": "text/x-python",
   "name": "python",
   "nbconvert_exporter": "python",
   "pygments_lexer": "ipython3",
   "version": "3.11.9"
  }
 },
 "nbformat": 4,
 "nbformat_minor": 5
}
